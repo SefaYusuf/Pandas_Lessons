{
 "cells": [
  {
   "cell_type": "markdown",
   "id": "d5e3656a-8aac-47ea-88a9-fdcc62826c6e",
   "metadata": {},
   "source": [
    "# 1. Data Frame'ler ve Series Yapısı \n",
    "##  | Satır ve Sütun Seçme "
   ]
  },
  {
   "cell_type": "code",
   "execution_count": 1,
   "id": "0068d4ba-cd45-49b9-a8f9-b6d82af817b0",
   "metadata": {},
   "outputs": [],
   "source": [
    "person = {\n",
    "    \"first\": \"Corey\", \n",
    "    \"last\": \"Schafer\", \n",
    "    \"email\": \"CoreyMSchafer@gmail.com\"\n",
    "}"
   ]
  },
  {
   "cell_type": "code",
   "execution_count": 2,
   "id": "b0140fad-5869-4414-809d-d141ffcbada0",
   "metadata": {},
   "outputs": [],
   "source": [
    "people = {\n",
    "    \"first\": [\"Corey\"], \n",
    "    \"last\": [\"Schafer\"], \n",
    "    \"email\": [\"CoreyMSchafer@gmail.com\"]\n",
    "}"
   ]
  },
  {
   "cell_type": "code",
   "execution_count": 9,
   "id": "3d7f5ed5-fead-4649-9426-160ff7f24f62",
   "metadata": {},
   "outputs": [],
   "source": [
    "people = {\n",
    "    \"first\": [\"Corey\", 'Jane', 'John'], \n",
    "    \"last\": [\"Schafer\", 'Doe', 'Doe'], \n",
    "    \"email\": [\"CoreyMSchafer@gmail.com\", 'JaneDoe@email.com', 'JohnDoe@email.com']\n",
    "}"
   ]
  },
  {
   "cell_type": "code",
   "execution_count": 6,
   "id": "e85932af-9412-45af-871a-0bd70a358838",
   "metadata": {},
   "outputs": [],
   "source": [
    "# Burada key'leri sütunlar, value'leri (değerleri) de satırlar olarak düşünüyoruz."
   ]
  },
  {
   "cell_type": "code",
   "execution_count": 10,
   "id": "1d62903f-263b-4874-9bd1-66c73adba598",
   "metadata": {},
   "outputs": [
    {
     "data": {
      "text/plain": [
       "['CoreyMSchafer@gmail.com', 'JaneDoe@email.com', 'JohnDoe@email.com']"
      ]
     },
     "execution_count": 10,
     "metadata": {},
     "output_type": "execute_result"
    }
   ],
   "source": [
    "people['email']"
   ]
  },
  {
   "cell_type": "code",
   "execution_count": 13,
   "id": "4831259b-dbc7-429e-b50d-797260599b3a",
   "metadata": {},
   "outputs": [],
   "source": [
    "# Pandas taki data frame yapısının da buna benzer olduğunu görüyoruz , \n",
    "# ancak data frame'lerin daha fazla fonksiyonelliğe sahip olduğunu da görüyoruz.\n"
   ]
  },
  {
   "cell_type": "code",
   "execution_count": 12,
   "id": "08b5bb16-23c4-4be1-9baa-c51e2c4d9ba8",
   "metadata": {},
   "outputs": [],
   "source": [
    "# şimdi bu dictionary yapısından bir data frame oluşturalım :"
   ]
  },
  {
   "cell_type": "code",
   "execution_count": 14,
   "id": "6bccadfe-c930-4ee8-89ce-56561068e881",
   "metadata": {},
   "outputs": [],
   "source": [
    "import pandas as pd"
   ]
  },
  {
   "cell_type": "code",
   "execution_count": 271,
   "id": "9e1065ca-b770-49cc-bb88-c3ecc9c7d796",
   "metadata": {},
   "outputs": [],
   "source": [
    "df = pd.DataFrame(people)  #DataFrame methoduna arguman olarak \"people\" dictionary'sini gönderiyoruz."
   ]
  },
  {
   "cell_type": "code",
   "execution_count": 17,
   "id": "e5006875-ada3-4196-a935-2541c02a8da1",
   "metadata": {},
   "outputs": [
    {
     "data": {
      "text/html": [
       "<div>\n",
       "<style scoped>\n",
       "    .dataframe tbody tr th:only-of-type {\n",
       "        vertical-align: middle;\n",
       "    }\n",
       "\n",
       "    .dataframe tbody tr th {\n",
       "        vertical-align: top;\n",
       "    }\n",
       "\n",
       "    .dataframe thead th {\n",
       "        text-align: right;\n",
       "    }\n",
       "</style>\n",
       "<table border=\"1\" class=\"dataframe\">\n",
       "  <thead>\n",
       "    <tr style=\"text-align: right;\">\n",
       "      <th></th>\n",
       "      <th>first</th>\n",
       "      <th>last</th>\n",
       "      <th>email</th>\n",
       "    </tr>\n",
       "  </thead>\n",
       "  <tbody>\n",
       "    <tr>\n",
       "      <th>0</th>\n",
       "      <td>Corey</td>\n",
       "      <td>Schafer</td>\n",
       "      <td>CoreyMSchafer@gmail.com</td>\n",
       "    </tr>\n",
       "    <tr>\n",
       "      <th>1</th>\n",
       "      <td>Jane</td>\n",
       "      <td>Doe</td>\n",
       "      <td>JaneDoe@email.com</td>\n",
       "    </tr>\n",
       "    <tr>\n",
       "      <th>2</th>\n",
       "      <td>John</td>\n",
       "      <td>Doe</td>\n",
       "      <td>JohnDoe@email.com</td>\n",
       "    </tr>\n",
       "  </tbody>\n",
       "</table>\n",
       "</div>"
      ],
      "text/plain": [
       "   first     last                    email\n",
       "0  Corey  Schafer  CoreyMSchafer@gmail.com\n",
       "1   Jane      Doe        JaneDoe@email.com\n",
       "2   John      Doe        JohnDoe@email.com"
      ]
     },
     "execution_count": 17,
     "metadata": {},
     "output_type": "execute_result"
    }
   ],
   "source": [
    "# şimdi df ismini verdiğimiz ve data olarak people'ı alan data frame'i görelim :\n",
    "df"
   ]
  },
  {
   "cell_type": "code",
   "execution_count": 18,
   "id": "6eb7522d-915b-4365-acff-7b63b6e5f73e",
   "metadata": {},
   "outputs": [],
   "source": [
    "# gördüğünüz gibi satır ve sütunlardan oluşan yapıda key'ler(first, last, email) sütunları,\n",
    "# value'lar ise satırları oluşturdu."
   ]
  },
  {
   "cell_type": "code",
   "execution_count": 19,
   "id": "f8bbfe23-671d-44c2-bc22-b88453aa7974",
   "metadata": {},
   "outputs": [],
   "source": [
    "# satırların en solunda ise 0, 1, 2 şeklinde index değerlerini görüyoruz."
   ]
  },
  {
   "cell_type": "code",
   "execution_count": 21,
   "id": "9742bdf9-e8c3-49b3-a720-eef17798b34b",
   "metadata": {},
   "outputs": [],
   "source": [
    "# Şimdi dataframe içerisindeki verilere nasıl ulaşacağımıza bir bakalım;"
   ]
  },
  {
   "cell_type": "code",
   "execution_count": 55,
   "id": "2cfc40b6-0948-4f7f-982a-912bd45db420",
   "metadata": {},
   "outputs": [],
   "source": [
    "# Bir sütuna nasıl erişebileceğimize bakalım önce. "
   ]
  },
  {
   "cell_type": "code",
   "execution_count": 221,
   "id": "14e697ad-f0db-4d51-ad1e-10989008f12e",
   "metadata": {},
   "outputs": [],
   "source": [
    "# Tıpkı dict. yapısındaki gibi erişeceğiz, key değerini data frame içerisine girdiğimizde bize\n",
    "# ilgili sütunu getirecek."
   ]
  },
  {
   "cell_type": "code",
   "execution_count": 24,
   "id": "3ed87abe-9c44-4e3b-95e2-91d582da68d1",
   "metadata": {},
   "outputs": [
    {
     "data": {
      "text/plain": [
       "0    CoreyMSchafer@gmail.com\n",
       "1          JaneDoe@email.com\n",
       "2          JohnDoe@email.com\n",
       "Name: email, dtype: object"
      ]
     },
     "execution_count": 24,
     "metadata": {},
     "output_type": "execute_result"
    }
   ],
   "source": [
    "df['email']"
   ]
  },
  {
   "cell_type": "code",
   "execution_count": 39,
   "id": "37ad9e6a-6c3a-4771-a960-5c27b820669c",
   "metadata": {},
   "outputs": [],
   "source": [
    "# Bu sütunu getirmenin ikinci yolu :"
   ]
  },
  {
   "cell_type": "code",
   "execution_count": 40,
   "id": "aa69e34a-4f8e-44e6-8ef8-c5e42bcb1d4f",
   "metadata": {},
   "outputs": [
    {
     "data": {
      "text/plain": [
       "0    CoreyMSchafer@gmail.com\n",
       "1          JaneDoe@email.com\n",
       "2          JohnDoe@email.com\n",
       "Name: email, dtype: object"
      ]
     },
     "execution_count": 40,
     "metadata": {},
     "output_type": "execute_result"
    }
   ],
   "source": [
    "df.email"
   ]
  },
  {
   "cell_type": "code",
   "execution_count": 54,
   "id": "18924736-1ce6-42fb-86a1-3264f4c1f098",
   "metadata": {},
   "outputs": [],
   "source": [
    "# Bu şekilde dot notation kullanarak email sütununu getirirken objeye ait attribute getirme\n",
    "# yolunu kullanmış oluyoruz. Bu yolu tercih etmemeliyiz. \n",
    "# Çünkü objeye ait aynı isimde bir attribute veya method varsa bu sütunu getiremeyiz, hata alırız.\n",
    "# Köşeli parantezlerle; df['email'] şeklinde getirmeyi tercih etmeliyiz."
   ]
  },
  {
   "cell_type": "code",
   "execution_count": 25,
   "id": "ff444b2d-a070-44f0-adab-95c0fad6f0e1",
   "metadata": {},
   "outputs": [],
   "source": [
    "# şimdi getirdiğimiz datanın type'ına bir bakalım :"
   ]
  },
  {
   "cell_type": "code",
   "execution_count": 27,
   "id": "bec4fd8e-347f-42e5-95c5-4170b0e42247",
   "metadata": {},
   "outputs": [
    {
     "data": {
      "text/plain": [
       "pandas.core.series.Series"
      ]
     },
     "execution_count": 27,
     "metadata": {},
     "output_type": "execute_result"
    }
   ],
   "source": [
    "type(df['email'])"
   ]
  },
  {
   "cell_type": "code",
   "execution_count": 28,
   "id": "7b5ad27a-2758-48e3-b2c9-9a86d9724152",
   "metadata": {},
   "outputs": [],
   "source": [
    "# pandasta Series adı verilen bir tipe sahip olduğunu görüyoruz.\n",
    "# peki bir Series objesi nedir ?"
   ]
  },
  {
   "cell_type": "code",
   "execution_count": 38,
   "id": "2b74b091-3d39-451b-a900-fa02c5bebb3b",
   "metadata": {},
   "outputs": [],
   "source": [
    "# Series'i, temel olarak bir list gibi düşünebiliriz.\n",
    "# tanımlamasında tek-boyutlu array olduğunu görüyoruz ayrıca.\n",
    "# Data Frame; satırlar ve sütunlardan oluşan bir yapı;\n",
    "# Series ise; tek bir sütundaki satırlardan meydana gelen bir yapı.\n",
    "\n",
    "# Yani Data Frame; birçok Series objesinden meydana gelen bir container(konteynır)."
   ]
  },
  {
   "cell_type": "code",
   "execution_count": 31,
   "id": "dd94ab74-326a-4373-9700-e9285f3669cb",
   "metadata": {},
   "outputs": [
    {
     "data": {
      "text/plain": [
       "pandas.core.frame.DataFrame"
      ]
     },
     "execution_count": 31,
     "metadata": {},
     "output_type": "execute_result"
    }
   ],
   "source": [
    "type(df)"
   ]
  },
  {
   "cell_type": "code",
   "execution_count": 35,
   "id": "b285721f-cf86-4ee3-b05e-89727ca675c9",
   "metadata": {},
   "outputs": [
    {
     "data": {
      "text/plain": [
       "2"
      ]
     },
     "execution_count": 35,
     "metadata": {},
     "output_type": "execute_result"
    }
   ],
   "source": [
    "df.ndim  #ndim'i daha önce numpy da boyut bilgisi almak için kullanmıştık."
   ]
  },
  {
   "cell_type": "code",
   "execution_count": 34,
   "id": "1b28d9d8-0800-4e02-bf04-bbb0fb4210a5",
   "metadata": {},
   "outputs": [],
   "source": [
    "# Data frame'in satırlar ve sütunlarla iki-boyutlu bir veri yapısı olduğunu görüyoruz."
   ]
  },
  {
   "cell_type": "code",
   "execution_count": 36,
   "id": "fd71c4b1-8f7a-4db6-ab82-0694f2b85a01",
   "metadata": {},
   "outputs": [
    {
     "data": {
      "text/plain": [
       "1"
      ]
     },
     "execution_count": 36,
     "metadata": {},
     "output_type": "execute_result"
    }
   ],
   "source": [
    "df['email'].ndim"
   ]
  },
  {
   "cell_type": "code",
   "execution_count": 37,
   "id": "71a32100-de48-4eef-a367-ed0e91d8c530",
   "metadata": {},
   "outputs": [],
   "source": [
    "# Series'in ise tek-boyutlu bir veri yapısı olduğunu görüyoruz. Yani aslında tek boyutlu bir array."
   ]
  },
  {
   "cell_type": "code",
   "execution_count": 46,
   "id": "5dfbe774-3826-4b6c-b321-3c2b800542a0",
   "metadata": {},
   "outputs": [
    {
     "data": {
      "text/plain": [
       "0    CoreyMSchafer@gmail.com\n",
       "1          JaneDoe@email.com\n",
       "2          JohnDoe@email.com\n",
       "Name: email, dtype: object"
      ]
     },
     "execution_count": 46,
     "metadata": {},
     "output_type": "execute_result"
    }
   ],
   "source": [
    "df['email']"
   ]
  },
  {
   "cell_type": "code",
   "execution_count": 47,
   "id": "be477aa8-dffe-4988-8753-196484ef8ee0",
   "metadata": {},
   "outputs": [
    {
     "data": {
      "text/plain": [
       "'CoreyMSchafer@gmail.com'"
      ]
     },
     "execution_count": 47,
     "metadata": {},
     "output_type": "execute_result"
    }
   ],
   "source": [
    "df['email'][0]"
   ]
  },
  {
   "cell_type": "code",
   "execution_count": 52,
   "id": "d5d29d1c-78e2-45f5-8960-d4d193d31d48",
   "metadata": {},
   "outputs": [],
   "source": [
    "# Burada df'i 2-boyutlu bir array gibi düşünürsek ilk boyutta 'email' değeriyle, bir sonraki boyuta\n",
    "# ulaşmış oluyoruz. İçteki boyutta ise 0,1,2 index numaralarından biriyle, istediğimiz satıra ulaşıyoruz.\n",
    "# içteki boyutta 0,1,2 index numaralarına sahip tek-boyutlu bir array olduğunu düşünmeliyiz.\n"
   ]
  },
  {
   "cell_type": "code",
   "execution_count": 57,
   "id": "8710a2ae-a312-4b5f-b601-b9f10f2073b4",
   "metadata": {},
   "outputs": [],
   "source": [
    "# Bir sütuna nasıl erişebileceğimizi gördük.\n",
    "# Birden fazla sütuna nasıl erişebiliriz ?\n",
    "# Aynı syntax'ı kullanarak içerisine bir sütun listesi gireceğiz :\n"
   ]
  },
  {
   "cell_type": "code",
   "execution_count": 58,
   "id": "efd5e402-9a69-4e42-a8d1-816293933571",
   "metadata": {},
   "outputs": [
    {
     "data": {
      "text/html": [
       "<div>\n",
       "<style scoped>\n",
       "    .dataframe tbody tr th:only-of-type {\n",
       "        vertical-align: middle;\n",
       "    }\n",
       "\n",
       "    .dataframe tbody tr th {\n",
       "        vertical-align: top;\n",
       "    }\n",
       "\n",
       "    .dataframe thead th {\n",
       "        text-align: right;\n",
       "    }\n",
       "</style>\n",
       "<table border=\"1\" class=\"dataframe\">\n",
       "  <thead>\n",
       "    <tr style=\"text-align: right;\">\n",
       "      <th></th>\n",
       "      <th>last</th>\n",
       "      <th>email</th>\n",
       "    </tr>\n",
       "  </thead>\n",
       "  <tbody>\n",
       "    <tr>\n",
       "      <th>0</th>\n",
       "      <td>Schafer</td>\n",
       "      <td>CoreyMSchafer@gmail.com</td>\n",
       "    </tr>\n",
       "    <tr>\n",
       "      <th>1</th>\n",
       "      <td>Doe</td>\n",
       "      <td>JaneDoe@email.com</td>\n",
       "    </tr>\n",
       "    <tr>\n",
       "      <th>2</th>\n",
       "      <td>Doe</td>\n",
       "      <td>JohnDoe@email.com</td>\n",
       "    </tr>\n",
       "  </tbody>\n",
       "</table>\n",
       "</div>"
      ],
      "text/plain": [
       "      last                    email\n",
       "0  Schafer  CoreyMSchafer@gmail.com\n",
       "1      Doe        JaneDoe@email.com\n",
       "2      Doe        JohnDoe@email.com"
      ]
     },
     "execution_count": 58,
     "metadata": {},
     "output_type": "execute_result"
    }
   ],
   "source": [
    "df[['last','email']]    # Sütun değerlerinden oluşan bir list'i kendisine ait [ ] içerisinde giriyoruz."
   ]
  },
  {
   "cell_type": "code",
   "execution_count": 175,
   "id": "705dbdf3-93a5-4bc2-afc5-f84f02737d69",
   "metadata": {},
   "outputs": [],
   "source": [
    "# burada dikkat etmemiz gereken bir nokta ;\n",
    "# birden fazla sütun seçilirse getirilen yapı bir başka dataframe oluyor. \n",
    "# Yani sonuç data tipi bir data frame.\n",
    "# Tek sütun ve çoklu sütun seçimindeki data type farkına bakalım :"
   ]
  },
  {
   "cell_type": "code",
   "execution_count": 176,
   "id": "8ccfec59-2b65-4de4-a381-118fa984fedc",
   "metadata": {},
   "outputs": [
    {
     "data": {
      "text/plain": [
       "pandas.core.series.Series"
      ]
     },
     "execution_count": 176,
     "metadata": {},
     "output_type": "execute_result"
    }
   ],
   "source": [
    "type(df['email'])"
   ]
  },
  {
   "cell_type": "code",
   "execution_count": 177,
   "id": "c672a21a-d903-433e-9ff7-c71737bd836b",
   "metadata": {},
   "outputs": [
    {
     "data": {
      "text/plain": [
       "pandas.core.frame.DataFrame"
      ]
     },
     "execution_count": 177,
     "metadata": {},
     "output_type": "execute_result"
    }
   ],
   "source": [
    "type(df[['last','email']])"
   ]
  },
  {
   "cell_type": "markdown",
   "id": "551a8174-9163-4364-a970-430a17c6db13",
   "metadata": {},
   "source": [
    "****"
   ]
  },
  {
   "cell_type": "code",
   "execution_count": 60,
   "id": "9fc98e88-aac2-492a-a814-01cca4ff1258",
   "metadata": {},
   "outputs": [
    {
     "data": {
      "text/html": [
       "<div>\n",
       "<style scoped>\n",
       "    .dataframe tbody tr th:only-of-type {\n",
       "        vertical-align: middle;\n",
       "    }\n",
       "\n",
       "    .dataframe tbody tr th {\n",
       "        vertical-align: top;\n",
       "    }\n",
       "\n",
       "    .dataframe thead th {\n",
       "        text-align: right;\n",
       "    }\n",
       "</style>\n",
       "<table border=\"1\" class=\"dataframe\">\n",
       "  <thead>\n",
       "    <tr style=\"text-align: right;\">\n",
       "      <th></th>\n",
       "      <th>email</th>\n",
       "      <th>last</th>\n",
       "    </tr>\n",
       "  </thead>\n",
       "  <tbody>\n",
       "    <tr>\n",
       "      <th>0</th>\n",
       "      <td>CoreyMSchafer@gmail.com</td>\n",
       "      <td>Schafer</td>\n",
       "    </tr>\n",
       "    <tr>\n",
       "      <th>1</th>\n",
       "      <td>JaneDoe@email.com</td>\n",
       "      <td>Doe</td>\n",
       "    </tr>\n",
       "    <tr>\n",
       "      <th>2</th>\n",
       "      <td>JohnDoe@email.com</td>\n",
       "      <td>Doe</td>\n",
       "    </tr>\n",
       "  </tbody>\n",
       "</table>\n",
       "</div>"
      ],
      "text/plain": [
       "                     email     last\n",
       "0  CoreyMSchafer@gmail.com  Schafer\n",
       "1        JaneDoe@email.com      Doe\n",
       "2        JohnDoe@email.com      Doe"
      ]
     },
     "execution_count": 60,
     "metadata": {},
     "output_type": "execute_result"
    }
   ],
   "source": [
    "df[['email','last']]  # Hangi sırayla girerseniz o sırayla getirecektir."
   ]
  },
  {
   "cell_type": "code",
   "execution_count": 179,
   "id": "25d779ab-4b4d-4af3-9b8c-d66077b101cc",
   "metadata": {},
   "outputs": [
    {
     "data": {
      "text/plain": [
       "Index(['first', 'last', 'email'], dtype='object')"
      ]
     },
     "execution_count": 179,
     "metadata": {},
     "output_type": "execute_result"
    }
   ],
   "source": [
    "\n",
    "# columns attribute ile bir df'teki sütunları görebiliriz:\n",
    "\n",
    "df.columns"
   ]
  },
  {
   "cell_type": "code",
   "execution_count": null,
   "id": "9341f8d8-e7f5-4872-9bdd-65e2da358140",
   "metadata": {},
   "outputs": [],
   "source": [
    "# Buradan da anlaşılacağı gibi ; sütunlarımız bizim indexlerimiz...\n",
    "# Bu yüzden df[0][1] yapamayız ancak df['email'][0] yapabiliriz.\n",
    "# Satırlardaki indexler 0,1,2... şeklinde gidiyor."
   ]
  },
  {
   "cell_type": "code",
   "execution_count": 180,
   "id": "26b338d9-04b1-41d9-8cc3-1260b3079489",
   "metadata": {},
   "outputs": [
    {
     "data": {
      "text/plain": [
       "'CoreyMSchafer@gmail.com'"
      ]
     },
     "execution_count": 180,
     "metadata": {},
     "output_type": "execute_result"
    }
   ],
   "source": [
    "df['email'][0]"
   ]
  },
  {
   "cell_type": "code",
   "execution_count": 241,
   "id": "3c7a3e0b-cac0-4e17-9f57-fe7d8928adea",
   "metadata": {},
   "outputs": [
    {
     "data": {
      "text/html": [
       "<div>\n",
       "<style scoped>\n",
       "    .dataframe tbody tr th:only-of-type {\n",
       "        vertical-align: middle;\n",
       "    }\n",
       "\n",
       "    .dataframe tbody tr th {\n",
       "        vertical-align: top;\n",
       "    }\n",
       "\n",
       "    .dataframe thead th {\n",
       "        text-align: right;\n",
       "    }\n",
       "</style>\n",
       "<table border=\"1\" class=\"dataframe\">\n",
       "  <thead>\n",
       "    <tr style=\"text-align: right;\">\n",
       "      <th></th>\n",
       "      <th>first</th>\n",
       "      <th>last</th>\n",
       "      <th>email</th>\n",
       "    </tr>\n",
       "  </thead>\n",
       "  <tbody>\n",
       "    <tr>\n",
       "      <th>0</th>\n",
       "      <td>Corey</td>\n",
       "      <td>Schafer</td>\n",
       "      <td>CoreyMSchafer@gmail.com</td>\n",
       "    </tr>\n",
       "    <tr>\n",
       "      <th>1</th>\n",
       "      <td>Jane</td>\n",
       "      <td>Doe</td>\n",
       "      <td>JaneDoe@email.com</td>\n",
       "    </tr>\n",
       "    <tr>\n",
       "      <th>2</th>\n",
       "      <td>John</td>\n",
       "      <td>Doe</td>\n",
       "      <td>JohnDoe@email.com</td>\n",
       "    </tr>\n",
       "  </tbody>\n",
       "</table>\n",
       "</div>"
      ],
      "text/plain": [
       "   first     last                    email\n",
       "0  Corey  Schafer  CoreyMSchafer@gmail.com\n",
       "1   Jane      Doe        JaneDoe@email.com\n",
       "2   John      Doe        JohnDoe@email.com"
      ]
     },
     "execution_count": 241,
     "metadata": {},
     "output_type": "execute_result"
    }
   ],
   "source": [
    "df[:]"
   ]
  },
  {
   "cell_type": "code",
   "execution_count": 246,
   "id": "1bfd7589-1bcb-4015-b582-ec1114f9ec9f",
   "metadata": {},
   "outputs": [
    {
     "data": {
      "text/html": [
       "<div>\n",
       "<style scoped>\n",
       "    .dataframe tbody tr th:only-of-type {\n",
       "        vertical-align: middle;\n",
       "    }\n",
       "\n",
       "    .dataframe tbody tr th {\n",
       "        vertical-align: top;\n",
       "    }\n",
       "\n",
       "    .dataframe thead th {\n",
       "        text-align: right;\n",
       "    }\n",
       "</style>\n",
       "<table border=\"1\" class=\"dataframe\">\n",
       "  <thead>\n",
       "    <tr style=\"text-align: right;\">\n",
       "      <th></th>\n",
       "      <th>first</th>\n",
       "      <th>last</th>\n",
       "      <th>email</th>\n",
       "    </tr>\n",
       "  </thead>\n",
       "  <tbody>\n",
       "    <tr>\n",
       "      <th>0</th>\n",
       "      <td>Corey</td>\n",
       "      <td>Schafer</td>\n",
       "      <td>CoreyMSchafer@gmail.com</td>\n",
       "    </tr>\n",
       "    <tr>\n",
       "      <th>1</th>\n",
       "      <td>Jane</td>\n",
       "      <td>Doe</td>\n",
       "      <td>JaneDoe@email.com</td>\n",
       "    </tr>\n",
       "    <tr>\n",
       "      <th>2</th>\n",
       "      <td>John</td>\n",
       "      <td>Doe</td>\n",
       "      <td>JohnDoe@email.com</td>\n",
       "    </tr>\n",
       "  </tbody>\n",
       "</table>\n",
       "</div>"
      ],
      "text/plain": [
       "   first     last                    email\n",
       "0  Corey  Schafer  CoreyMSchafer@gmail.com\n",
       "1   Jane      Doe        JaneDoe@email.com\n",
       "2   John      Doe        JohnDoe@email.com"
      ]
     },
     "execution_count": 246,
     "metadata": {},
     "output_type": "execute_result"
    }
   ],
   "source": [
    "df[:][:]"
   ]
  },
  {
   "cell_type": "code",
   "execution_count": 286,
   "id": "b38c7ce3-a82f-4b9a-b77f-ace79fc04f83",
   "metadata": {},
   "outputs": [
    {
     "data": {
      "text/html": [
       "<div>\n",
       "<style scoped>\n",
       "    .dataframe tbody tr th:only-of-type {\n",
       "        vertical-align: middle;\n",
       "    }\n",
       "\n",
       "    .dataframe tbody tr th {\n",
       "        vertical-align: top;\n",
       "    }\n",
       "\n",
       "    .dataframe thead th {\n",
       "        text-align: right;\n",
       "    }\n",
       "</style>\n",
       "<table border=\"1\" class=\"dataframe\">\n",
       "  <thead>\n",
       "    <tr style=\"text-align: right;\">\n",
       "      <th></th>\n",
       "      <th>first</th>\n",
       "      <th>last</th>\n",
       "      <th>email</th>\n",
       "    </tr>\n",
       "  </thead>\n",
       "  <tbody>\n",
       "    <tr>\n",
       "      <th>0</th>\n",
       "      <td>Corey</td>\n",
       "      <td>Schafer</td>\n",
       "      <td>CoreyMSchafer@gmail.com</td>\n",
       "    </tr>\n",
       "  </tbody>\n",
       "</table>\n",
       "</div>"
      ],
      "text/plain": [
       "   first     last                    email\n",
       "0  Corey  Schafer  CoreyMSchafer@gmail.com"
      ]
     },
     "execution_count": 286,
     "metadata": {},
     "output_type": "execute_result"
    }
   ],
   "source": [
    "df[:][0:1]"
   ]
  },
  {
   "cell_type": "code",
   "execution_count": null,
   "id": "16ecfda3-da5f-48b2-b144-d7ffd640be79",
   "metadata": {},
   "outputs": [],
   "source": [
    "# df[][] şeklindeki syntaxta [sütun][satır] şeklinde bir yapı vardır.\n",
    "# Ancak istenilen satırı df[:][0] şeklinde getirmeye çalışırsanız hata alırsınız.\n",
    "# 0. satırı getirmek için df[:][0:1] şeklinde girmeniz gerekir.\n",
    "# Bu erişim yöntemi ise kullanışlı değildir.\n",
    "\n",
    "# Data frame'lerde eleman erişimi için iloc ve loc olmak üzere iki methodu kullanacağız."
   ]
  },
  {
   "cell_type": "markdown",
   "id": "bcd489de-88ca-46ee-8e50-6e21f42b6c7d",
   "metadata": {},
   "source": [
    "# 2. Data Frame'lerde Elemanlara/Dataya Erişim Yöntemleri\n",
    "## Satırları Getirme Yöntemleri"
   ]
  },
  {
   "cell_type": "markdown",
   "id": "2778f2f6-4d9c-4e79-bc34-903d3797a4f5",
   "metadata": {},
   "source": [
    "### \" iloc \" Methodu ile Satır Getirme"
   ]
  },
  {
   "cell_type": "code",
   "execution_count": 184,
   "id": "c3fcc002-7409-4ec4-a214-511e289e82be",
   "metadata": {},
   "outputs": [],
   "source": [
    "# \"integer location\" ifadesinin kısaltmasıdır \"iloc\"... "
   ]
  },
  {
   "cell_type": "code",
   "execution_count": 185,
   "id": "a8bfa44d-3dbc-4b57-92a1-fc8b1962caa6",
   "metadata": {},
   "outputs": [
    {
     "data": {
      "text/html": [
       "<div>\n",
       "<style scoped>\n",
       "    .dataframe tbody tr th:only-of-type {\n",
       "        vertical-align: middle;\n",
       "    }\n",
       "\n",
       "    .dataframe tbody tr th {\n",
       "        vertical-align: top;\n",
       "    }\n",
       "\n",
       "    .dataframe thead th {\n",
       "        text-align: right;\n",
       "    }\n",
       "</style>\n",
       "<table border=\"1\" class=\"dataframe\">\n",
       "  <thead>\n",
       "    <tr style=\"text-align: right;\">\n",
       "      <th></th>\n",
       "      <th>first</th>\n",
       "      <th>last</th>\n",
       "      <th>email</th>\n",
       "    </tr>\n",
       "  </thead>\n",
       "  <tbody>\n",
       "    <tr>\n",
       "      <th>0</th>\n",
       "      <td>Corey</td>\n",
       "      <td>Schafer</td>\n",
       "      <td>CoreyMSchafer@gmail.com</td>\n",
       "    </tr>\n",
       "    <tr>\n",
       "      <th>1</th>\n",
       "      <td>Jane</td>\n",
       "      <td>Doe</td>\n",
       "      <td>JaneDoe@email.com</td>\n",
       "    </tr>\n",
       "    <tr>\n",
       "      <th>2</th>\n",
       "      <td>John</td>\n",
       "      <td>Doe</td>\n",
       "      <td>JohnDoe@email.com</td>\n",
       "    </tr>\n",
       "  </tbody>\n",
       "</table>\n",
       "</div>"
      ],
      "text/plain": [
       "   first     last                    email\n",
       "0  Corey  Schafer  CoreyMSchafer@gmail.com\n",
       "1   Jane      Doe        JaneDoe@email.com\n",
       "2   John      Doe        JohnDoe@email.com"
      ]
     },
     "execution_count": 185,
     "metadata": {},
     "output_type": "execute_result"
    }
   ],
   "source": [
    "df"
   ]
  },
  {
   "cell_type": "code",
   "execution_count": 186,
   "id": "00f9cea4-9029-4551-9e51-95dae4768a6b",
   "metadata": {},
   "outputs": [],
   "source": [
    "# birinci satırı getirmek için :  syntax :  iloc[ index_num ]"
   ]
  },
  {
   "cell_type": "code",
   "execution_count": 188,
   "id": "7702eedc-7c63-4262-b559-fe42bf9fb462",
   "metadata": {},
   "outputs": [
    {
     "data": {
      "text/plain": [
       "first                      Corey\n",
       "last                     Schafer\n",
       "email    CoreyMSchafer@gmail.com\n",
       "Name: 0, dtype: object"
      ]
     },
     "execution_count": 188,
     "metadata": {},
     "output_type": "execute_result"
    }
   ],
   "source": [
    "df.iloc[0]"
   ]
  },
  {
   "cell_type": "code",
   "execution_count": 189,
   "id": "27cb9b84-a5ec-4713-a700-018a1de8c5f9",
   "metadata": {},
   "outputs": [],
   "source": [
    "# iloc bize satırları indexleri ile birlikte (first, last, email) getirir..."
   ]
  },
  {
   "cell_type": "code",
   "execution_count": 190,
   "id": "7006552b-91e8-4e6d-b508-61bdd1d46e06",
   "metadata": {},
   "outputs": [],
   "source": [
    "# Birden fazla satır getirmek için :"
   ]
  },
  {
   "cell_type": "code",
   "execution_count": 191,
   "id": "6c66b77e-5d6e-4bda-88dc-eb9d73755717",
   "metadata": {},
   "outputs": [
    {
     "data": {
      "text/html": [
       "<div>\n",
       "<style scoped>\n",
       "    .dataframe tbody tr th:only-of-type {\n",
       "        vertical-align: middle;\n",
       "    }\n",
       "\n",
       "    .dataframe tbody tr th {\n",
       "        vertical-align: top;\n",
       "    }\n",
       "\n",
       "    .dataframe thead th {\n",
       "        text-align: right;\n",
       "    }\n",
       "</style>\n",
       "<table border=\"1\" class=\"dataframe\">\n",
       "  <thead>\n",
       "    <tr style=\"text-align: right;\">\n",
       "      <th></th>\n",
       "      <th>first</th>\n",
       "      <th>last</th>\n",
       "      <th>email</th>\n",
       "    </tr>\n",
       "  </thead>\n",
       "  <tbody>\n",
       "    <tr>\n",
       "      <th>0</th>\n",
       "      <td>Corey</td>\n",
       "      <td>Schafer</td>\n",
       "      <td>CoreyMSchafer@gmail.com</td>\n",
       "    </tr>\n",
       "    <tr>\n",
       "      <th>1</th>\n",
       "      <td>Jane</td>\n",
       "      <td>Doe</td>\n",
       "      <td>JaneDoe@email.com</td>\n",
       "    </tr>\n",
       "  </tbody>\n",
       "</table>\n",
       "</div>"
      ],
      "text/plain": [
       "   first     last                    email\n",
       "0  Corey  Schafer  CoreyMSchafer@gmail.com\n",
       "1   Jane      Doe        JaneDoe@email.com"
      ]
     },
     "execution_count": 191,
     "metadata": {},
     "output_type": "execute_result"
    }
   ],
   "source": [
    "df.iloc[[0, 1]]"
   ]
  },
  {
   "cell_type": "code",
   "execution_count": 289,
   "id": "1157f9f6-aba6-469e-a8a5-c8f1a1f61bd8",
   "metadata": {},
   "outputs": [],
   "source": [
    "# Birden fazla satır getirdiğimizde tıpkı sütunlardaki gibi sonuç data frame tipinde oluyor.\n",
    "\n",
    "# iloc[[0, 1]] yapmak yerine slicing ile iloc[0:2] şeklinde de getirebiliriz:"
   ]
  },
  {
   "cell_type": "code",
   "execution_count": 288,
   "id": "7d91ad42-a3ed-4637-86ef-7c60066afa1c",
   "metadata": {},
   "outputs": [
    {
     "data": {
      "text/html": [
       "<div>\n",
       "<style scoped>\n",
       "    .dataframe tbody tr th:only-of-type {\n",
       "        vertical-align: middle;\n",
       "    }\n",
       "\n",
       "    .dataframe tbody tr th {\n",
       "        vertical-align: top;\n",
       "    }\n",
       "\n",
       "    .dataframe thead th {\n",
       "        text-align: right;\n",
       "    }\n",
       "</style>\n",
       "<table border=\"1\" class=\"dataframe\">\n",
       "  <thead>\n",
       "    <tr style=\"text-align: right;\">\n",
       "      <th></th>\n",
       "      <th>first</th>\n",
       "      <th>last</th>\n",
       "      <th>email</th>\n",
       "    </tr>\n",
       "  </thead>\n",
       "  <tbody>\n",
       "    <tr>\n",
       "      <th>0</th>\n",
       "      <td>Corey</td>\n",
       "      <td>Schafer</td>\n",
       "      <td>CoreyMSchafer@gmail.com</td>\n",
       "    </tr>\n",
       "    <tr>\n",
       "      <th>1</th>\n",
       "      <td>Jane</td>\n",
       "      <td>Doe</td>\n",
       "      <td>JaneDoe@email.com</td>\n",
       "    </tr>\n",
       "  </tbody>\n",
       "</table>\n",
       "</div>"
      ],
      "text/plain": [
       "   first     last                    email\n",
       "0  Corey  Schafer  CoreyMSchafer@gmail.com\n",
       "1   Jane      Doe        JaneDoe@email.com"
      ]
     },
     "execution_count": 288,
     "metadata": {},
     "output_type": "execute_result"
    }
   ],
   "source": [
    "df.iloc[0:2]"
   ]
  },
  {
   "cell_type": "code",
   "execution_count": 291,
   "id": "26952888-e385-43f1-84fb-0f4d16947867",
   "metadata": {},
   "outputs": [
    {
     "data": {
      "text/html": [
       "<div>\n",
       "<style scoped>\n",
       "    .dataframe tbody tr th:only-of-type {\n",
       "        vertical-align: middle;\n",
       "    }\n",
       "\n",
       "    .dataframe tbody tr th {\n",
       "        vertical-align: top;\n",
       "    }\n",
       "\n",
       "    .dataframe thead th {\n",
       "        text-align: right;\n",
       "    }\n",
       "</style>\n",
       "<table border=\"1\" class=\"dataframe\">\n",
       "  <thead>\n",
       "    <tr style=\"text-align: right;\">\n",
       "      <th></th>\n",
       "      <th>first</th>\n",
       "      <th>last</th>\n",
       "      <th>email</th>\n",
       "    </tr>\n",
       "  </thead>\n",
       "  <tbody>\n",
       "    <tr>\n",
       "      <th>0</th>\n",
       "      <td>Corey</td>\n",
       "      <td>Schafer</td>\n",
       "      <td>CoreyMSchafer@gmail.com</td>\n",
       "    </tr>\n",
       "    <tr>\n",
       "      <th>2</th>\n",
       "      <td>John</td>\n",
       "      <td>Doe</td>\n",
       "      <td>JohnDoe@email.com</td>\n",
       "    </tr>\n",
       "  </tbody>\n",
       "</table>\n",
       "</div>"
      ],
      "text/plain": [
       "   first     last                    email\n",
       "0  Corey  Schafer  CoreyMSchafer@gmail.com\n",
       "2   John      Doe        JohnDoe@email.com"
      ]
     },
     "execution_count": 291,
     "metadata": {},
     "output_type": "execute_result"
    }
   ],
   "source": [
    "df.iloc[0:3:2]     # start:stop:step "
   ]
  },
  {
   "cell_type": "markdown",
   "id": "4423d467-57f0-4cff-b1c4-8796e328df38",
   "metadata": {},
   "source": [
    "### \" iloc \" ile Satır ve Sütun Seçimi Yapmak"
   ]
  },
  {
   "cell_type": "code",
   "execution_count": 194,
   "id": "5f7bd6df-3c18-4496-b60f-5e2c31ec176c",
   "metadata": {},
   "outputs": [],
   "source": [
    "# iloc methodu ilk argument olarak satır-indexi, ikinci argument olarak sütun-indexi alabilir."
   ]
  },
  {
   "cell_type": "code",
   "execution_count": 195,
   "id": "44e2206e-df17-40bf-b7ae-11e8b5d546d8",
   "metadata": {},
   "outputs": [],
   "source": [
    "# Böylece satır ve sutün seçimi yapabiliriz : "
   ]
  },
  {
   "cell_type": "code",
   "execution_count": 203,
   "id": "a19f3fe1-5b71-4173-b9a9-68d6504b48a1",
   "metadata": {},
   "outputs": [],
   "source": [
    "# syntax:  iloc[ [row_num1, row_num2], column_num ]"
   ]
  },
  {
   "cell_type": "code",
   "execution_count": null,
   "id": "2c5cfdd9-a127-43ca-9b22-81b7448c0332",
   "metadata": {},
   "outputs": [],
   "source": [
    "# Dikkat: iloc ; yalnızca integer location numarası alıyor. \n",
    "# bu yüzden sütun indexlerini string değerleriyle ('first', 'last', 'email') değil ;\n",
    "# sıra numaralarını kullanarak (0, 1, 2...) gireceğiz :"
   ]
  },
  {
   "cell_type": "code",
   "execution_count": 198,
   "id": "18bc93ac-64b4-4143-8fc2-ad2b0a2a13fe",
   "metadata": {},
   "outputs": [
    {
     "data": {
      "text/html": [
       "<div>\n",
       "<style scoped>\n",
       "    .dataframe tbody tr th:only-of-type {\n",
       "        vertical-align: middle;\n",
       "    }\n",
       "\n",
       "    .dataframe tbody tr th {\n",
       "        vertical-align: top;\n",
       "    }\n",
       "\n",
       "    .dataframe thead th {\n",
       "        text-align: right;\n",
       "    }\n",
       "</style>\n",
       "<table border=\"1\" class=\"dataframe\">\n",
       "  <thead>\n",
       "    <tr style=\"text-align: right;\">\n",
       "      <th></th>\n",
       "      <th>first</th>\n",
       "      <th>last</th>\n",
       "      <th>email</th>\n",
       "    </tr>\n",
       "  </thead>\n",
       "  <tbody>\n",
       "    <tr>\n",
       "      <th>0</th>\n",
       "      <td>Corey</td>\n",
       "      <td>Schafer</td>\n",
       "      <td>CoreyMSchafer@gmail.com</td>\n",
       "    </tr>\n",
       "    <tr>\n",
       "      <th>1</th>\n",
       "      <td>Jane</td>\n",
       "      <td>Doe</td>\n",
       "      <td>JaneDoe@email.com</td>\n",
       "    </tr>\n",
       "    <tr>\n",
       "      <th>2</th>\n",
       "      <td>John</td>\n",
       "      <td>Doe</td>\n",
       "      <td>JohnDoe@email.com</td>\n",
       "    </tr>\n",
       "  </tbody>\n",
       "</table>\n",
       "</div>"
      ],
      "text/plain": [
       "   first     last                    email\n",
       "0  Corey  Schafer  CoreyMSchafer@gmail.com\n",
       "1   Jane      Doe        JaneDoe@email.com\n",
       "2   John      Doe        JohnDoe@email.com"
      ]
     },
     "execution_count": 198,
     "metadata": {},
     "output_type": "execute_result"
    }
   ],
   "source": [
    "df"
   ]
  },
  {
   "cell_type": "code",
   "execution_count": 229,
   "id": "a7a3c6a3-42f5-434f-af81-a43ea3ca3143",
   "metadata": {},
   "outputs": [
    {
     "data": {
      "text/plain": [
       "'CoreyMSchafer@gmail.com'"
      ]
     },
     "execution_count": 229,
     "metadata": {},
     "output_type": "execute_result"
    }
   ],
   "source": [
    "df.iloc[0, 2]"
   ]
  },
  {
   "cell_type": "code",
   "execution_count": 205,
   "id": "066db642-93eb-478d-92aa-5a7f74fdb9ac",
   "metadata": {},
   "outputs": [
    {
     "data": {
      "text/plain": [
       "0    CoreyMSchafer@gmail.com\n",
       "1          JaneDoe@email.com\n",
       "Name: email, dtype: object"
      ]
     },
     "execution_count": 205,
     "metadata": {},
     "output_type": "execute_result"
    }
   ],
   "source": [
    "# 0 ve 1 nolu satırlarda email sütununu yani 2 nolu sütunu getirmek için :\n",
    "\n",
    "df.iloc[[0, 1], 2]"
   ]
  },
  {
   "cell_type": "code",
   "execution_count": 206,
   "id": "92d15eec-39f6-42e4-9b21-a9de95d92be6",
   "metadata": {},
   "outputs": [
    {
     "data": {
      "text/html": [
       "<div>\n",
       "<style scoped>\n",
       "    .dataframe tbody tr th:only-of-type {\n",
       "        vertical-align: middle;\n",
       "    }\n",
       "\n",
       "    .dataframe tbody tr th {\n",
       "        vertical-align: top;\n",
       "    }\n",
       "\n",
       "    .dataframe thead th {\n",
       "        text-align: right;\n",
       "    }\n",
       "</style>\n",
       "<table border=\"1\" class=\"dataframe\">\n",
       "  <thead>\n",
       "    <tr style=\"text-align: right;\">\n",
       "      <th></th>\n",
       "      <th>last</th>\n",
       "      <th>email</th>\n",
       "    </tr>\n",
       "  </thead>\n",
       "  <tbody>\n",
       "    <tr>\n",
       "      <th>0</th>\n",
       "      <td>Schafer</td>\n",
       "      <td>CoreyMSchafer@gmail.com</td>\n",
       "    </tr>\n",
       "    <tr>\n",
       "      <th>1</th>\n",
       "      <td>Doe</td>\n",
       "      <td>JaneDoe@email.com</td>\n",
       "    </tr>\n",
       "  </tbody>\n",
       "</table>\n",
       "</div>"
      ],
      "text/plain": [
       "      last                    email\n",
       "0  Schafer  CoreyMSchafer@gmail.com\n",
       "1      Doe        JaneDoe@email.com"
      ]
     },
     "execution_count": 206,
     "metadata": {},
     "output_type": "execute_result"
    }
   ],
   "source": [
    "\n",
    "# çoklu satır ile çoklu sütun seçmek için :\n",
    "# syntax:  iloc[ [row_num1, row_num2], [column_num1, column_num2] ]\n",
    "\n",
    "df.iloc[[0, 1], [1,2]]"
   ]
  },
  {
   "cell_type": "code",
   "execution_count": 220,
   "id": "3bcd0f23-f4ed-43b7-a78b-9c6b3f9b8ea1",
   "metadata": {},
   "outputs": [
    {
     "data": {
      "text/html": [
       "<div>\n",
       "<style scoped>\n",
       "    .dataframe tbody tr th:only-of-type {\n",
       "        vertical-align: middle;\n",
       "    }\n",
       "\n",
       "    .dataframe tbody tr th {\n",
       "        vertical-align: top;\n",
       "    }\n",
       "\n",
       "    .dataframe thead th {\n",
       "        text-align: right;\n",
       "    }\n",
       "</style>\n",
       "<table border=\"1\" class=\"dataframe\">\n",
       "  <thead>\n",
       "    <tr style=\"text-align: right;\">\n",
       "      <th></th>\n",
       "      <th>last</th>\n",
       "      <th>email</th>\n",
       "    </tr>\n",
       "  </thead>\n",
       "  <tbody>\n",
       "    <tr>\n",
       "      <th>0</th>\n",
       "      <td>Schafer</td>\n",
       "      <td>CoreyMSchafer@gmail.com</td>\n",
       "    </tr>\n",
       "    <tr>\n",
       "      <th>1</th>\n",
       "      <td>Doe</td>\n",
       "      <td>JaneDoe@email.com</td>\n",
       "    </tr>\n",
       "    <tr>\n",
       "      <th>2</th>\n",
       "      <td>Doe</td>\n",
       "      <td>JohnDoe@email.com</td>\n",
       "    </tr>\n",
       "  </tbody>\n",
       "</table>\n",
       "</div>"
      ],
      "text/plain": [
       "      last                    email\n",
       "0  Schafer  CoreyMSchafer@gmail.com\n",
       "1      Doe        JaneDoe@email.com\n",
       "2      Doe        JohnDoe@email.com"
      ]
     },
     "execution_count": 220,
     "metadata": {},
     "output_type": "execute_result"
    }
   ],
   "source": [
    "\n",
    "df.iloc[[0, 1, 2], [1,2]]"
   ]
  },
  {
   "cell_type": "code",
   "execution_count": 294,
   "id": "8fab9484-3ca8-4e5b-af7f-9765b03ea655",
   "metadata": {},
   "outputs": [
    {
     "data": {
      "text/html": [
       "<div>\n",
       "<style scoped>\n",
       "    .dataframe tbody tr th:only-of-type {\n",
       "        vertical-align: middle;\n",
       "    }\n",
       "\n",
       "    .dataframe tbody tr th {\n",
       "        vertical-align: top;\n",
       "    }\n",
       "\n",
       "    .dataframe thead th {\n",
       "        text-align: right;\n",
       "    }\n",
       "</style>\n",
       "<table border=\"1\" class=\"dataframe\">\n",
       "  <thead>\n",
       "    <tr style=\"text-align: right;\">\n",
       "      <th></th>\n",
       "      <th>last</th>\n",
       "      <th>email</th>\n",
       "    </tr>\n",
       "  </thead>\n",
       "  <tbody>\n",
       "    <tr>\n",
       "      <th>0</th>\n",
       "      <td>Schafer</td>\n",
       "      <td>CoreyMSchafer@gmail.com</td>\n",
       "    </tr>\n",
       "    <tr>\n",
       "      <th>1</th>\n",
       "      <td>Doe</td>\n",
       "      <td>JaneDoe@email.com</td>\n",
       "    </tr>\n",
       "  </tbody>\n",
       "</table>\n",
       "</div>"
      ],
      "text/plain": [
       "      last                    email\n",
       "0  Schafer  CoreyMSchafer@gmail.com\n",
       "1      Doe        JaneDoe@email.com"
      ]
     },
     "execution_count": 294,
     "metadata": {},
     "output_type": "execute_result"
    }
   ],
   "source": [
    "df.iloc[ 0:2, [1,2] ]  # Yukarıdaki erişimin aynısını slicing ile yapıyoruz\n",
    "                       # start:stop giriyoruz"
   ]
  },
  {
   "cell_type": "code",
   "execution_count": 296,
   "id": "8d8075f6-6274-44ea-9afb-f84f4bfa4d8b",
   "metadata": {
    "tags": []
   },
   "outputs": [
    {
     "data": {
      "text/html": [
       "<div>\n",
       "<style scoped>\n",
       "    .dataframe tbody tr th:only-of-type {\n",
       "        vertical-align: middle;\n",
       "    }\n",
       "\n",
       "    .dataframe tbody tr th {\n",
       "        vertical-align: top;\n",
       "    }\n",
       "\n",
       "    .dataframe thead th {\n",
       "        text-align: right;\n",
       "    }\n",
       "</style>\n",
       "<table border=\"1\" class=\"dataframe\">\n",
       "  <thead>\n",
       "    <tr style=\"text-align: right;\">\n",
       "      <th></th>\n",
       "      <th>last</th>\n",
       "      <th>email</th>\n",
       "    </tr>\n",
       "  </thead>\n",
       "  <tbody>\n",
       "    <tr>\n",
       "      <th>0</th>\n",
       "      <td>Schafer</td>\n",
       "      <td>CoreyMSchafer@gmail.com</td>\n",
       "    </tr>\n",
       "    <tr>\n",
       "      <th>1</th>\n",
       "      <td>Doe</td>\n",
       "      <td>JaneDoe@email.com</td>\n",
       "    </tr>\n",
       "  </tbody>\n",
       "</table>\n",
       "</div>"
      ],
      "text/plain": [
       "      last                    email\n",
       "0  Schafer  CoreyMSchafer@gmail.com\n",
       "1      Doe        JaneDoe@email.com"
      ]
     },
     "execution_count": 296,
     "metadata": {},
     "output_type": "execute_result"
    }
   ],
   "source": [
    "df.iloc[ 0:2, 1:3 ]  # Aynı sonucu bu şekilde de getirebiliriz."
   ]
  },
  {
   "cell_type": "code",
   "execution_count": null,
   "id": "7853c244-bfac-4c19-8b41-e01d053a98c4",
   "metadata": {},
   "outputs": [],
   "source": []
  },
  {
   "cell_type": "markdown",
   "id": "cfd1dc87-2e4b-4fa4-ba58-0192fa1e80bc",
   "metadata": {
    "tags": []
   },
   "source": [
    "****\n",
    "## \" loc \" ile Satır ve Sütun Seçimi Yapmak"
   ]
  },
  {
   "cell_type": "code",
   "execution_count": 211,
   "id": "91141629-87cd-4c09-971c-9e7fe71018ea",
   "metadata": {},
   "outputs": [],
   "source": [
    "# iloc methodu index değerleri olarak integer değerler alıyordu.\n",
    "# loc methodu ise label'ları index olarak alır."
   ]
  },
  {
   "cell_type": "code",
   "execution_count": 212,
   "id": "bdcbf9c3-5ecb-461e-ac62-1d7342ffb72f",
   "metadata": {},
   "outputs": [
    {
     "data": {
      "text/html": [
       "<div>\n",
       "<style scoped>\n",
       "    .dataframe tbody tr th:only-of-type {\n",
       "        vertical-align: middle;\n",
       "    }\n",
       "\n",
       "    .dataframe tbody tr th {\n",
       "        vertical-align: top;\n",
       "    }\n",
       "\n",
       "    .dataframe thead th {\n",
       "        text-align: right;\n",
       "    }\n",
       "</style>\n",
       "<table border=\"1\" class=\"dataframe\">\n",
       "  <thead>\n",
       "    <tr style=\"text-align: right;\">\n",
       "      <th></th>\n",
       "      <th>first</th>\n",
       "      <th>last</th>\n",
       "      <th>email</th>\n",
       "    </tr>\n",
       "  </thead>\n",
       "  <tbody>\n",
       "    <tr>\n",
       "      <th>0</th>\n",
       "      <td>Corey</td>\n",
       "      <td>Schafer</td>\n",
       "      <td>CoreyMSchafer@gmail.com</td>\n",
       "    </tr>\n",
       "    <tr>\n",
       "      <th>1</th>\n",
       "      <td>Jane</td>\n",
       "      <td>Doe</td>\n",
       "      <td>JaneDoe@email.com</td>\n",
       "    </tr>\n",
       "    <tr>\n",
       "      <th>2</th>\n",
       "      <td>John</td>\n",
       "      <td>Doe</td>\n",
       "      <td>JohnDoe@email.com</td>\n",
       "    </tr>\n",
       "  </tbody>\n",
       "</table>\n",
       "</div>"
      ],
      "text/plain": [
       "   first     last                    email\n",
       "0  Corey  Schafer  CoreyMSchafer@gmail.com\n",
       "1   Jane      Doe        JaneDoe@email.com\n",
       "2   John      Doe        JohnDoe@email.com"
      ]
     },
     "execution_count": 212,
     "metadata": {},
     "output_type": "execute_result"
    }
   ],
   "source": [
    "df"
   ]
  },
  {
   "cell_type": "code",
   "execution_count": 409,
   "id": "774e1399-8914-4b30-9672-f00a7a80608b",
   "metadata": {},
   "outputs": [
    {
     "data": {
      "text/plain": [
       "first                      Corey\n",
       "last                     Schafer\n",
       "email    CoreyMSchafer@gmail.com\n",
       "Name: 0, dtype: object"
      ]
     },
     "execution_count": 409,
     "metadata": {},
     "output_type": "execute_result"
    }
   ],
   "source": [
    "df.loc[0]   # satır indexlerini değiştirmediğimiz için mevcut label'lar 0,1,2\n",
    "            # üzerinden gidiyoruz. Index set işleminde bunların da string olduğu\n",
    "            # durumları göreceğiz yani satıra loc['satır_index_label'] şeklinde erişeceğiz."
   ]
  },
  {
   "cell_type": "code",
   "execution_count": 298,
   "id": "8f6f9793-c5a5-4022-a13d-87c4563a1fe0",
   "metadata": {},
   "outputs": [
    {
     "data": {
      "text/plain": [
       "first                      Corey\n",
       "last                     Schafer\n",
       "email    CoreyMSchafer@gmail.com\n",
       "Name: 0, dtype: object"
      ]
     },
     "execution_count": 298,
     "metadata": {},
     "output_type": "execute_result"
    }
   ],
   "source": [
    "df.iloc[0]"
   ]
  },
  {
   "cell_type": "code",
   "execution_count": 228,
   "id": "6347a957-b18c-4d6f-842e-e3e8837eb0f0",
   "metadata": {},
   "outputs": [
    {
     "data": {
      "text/plain": [
       "0    Schafer\n",
       "1        Doe\n",
       "2        Doe\n",
       "Name: last, dtype: object"
      ]
     },
     "execution_count": 228,
     "metadata": {},
     "output_type": "execute_result"
    }
   ],
   "source": [
    "df.loc[:,'last']"
   ]
  },
  {
   "cell_type": "code",
   "execution_count": 214,
   "id": "8c2e9830-2120-44f1-95b0-9fd8c16ab7b8",
   "metadata": {},
   "outputs": [],
   "source": [
    "# Bu df'te satır label'ları özelleştirmediğimiz için 0,1,2... şeklinde geldi.\n",
    "# Sütunlar içinse zaten first, last, email girdilerimiz mevcut."
   ]
  },
  {
   "cell_type": "code",
   "execution_count": 215,
   "id": "f05f9ac1-32fd-4758-99d0-9910461482b1",
   "metadata": {},
   "outputs": [
    {
     "data": {
      "text/plain": [
       "'CoreyMSchafer@gmail.com'"
      ]
     },
     "execution_count": 215,
     "metadata": {},
     "output_type": "execute_result"
    }
   ],
   "source": [
    "df.loc[ 0, 'email' ]"
   ]
  },
  {
   "cell_type": "code",
   "execution_count": 216,
   "id": "2724ffab-b3fa-48f6-908e-7c8958bca43b",
   "metadata": {},
   "outputs": [
    {
     "data": {
      "text/plain": [
       "'Schafer'"
      ]
     },
     "execution_count": 216,
     "metadata": {},
     "output_type": "execute_result"
    }
   ],
   "source": [
    "df.loc[ 0, 'last' ]"
   ]
  },
  {
   "cell_type": "code",
   "execution_count": 217,
   "id": "9b985bfb-7aa8-4458-b294-1ec3daf6ebbb",
   "metadata": {},
   "outputs": [
    {
     "data": {
      "text/plain": [
       "0    Schafer\n",
       "1        Doe\n",
       "Name: last, dtype: object"
      ]
     },
     "execution_count": 217,
     "metadata": {},
     "output_type": "execute_result"
    }
   ],
   "source": [
    "df.loc[ [0, 1], 'last' ]"
   ]
  },
  {
   "cell_type": "code",
   "execution_count": 218,
   "id": "a9a80652-b68e-41ee-a75a-a4e1fbaf7a7e",
   "metadata": {},
   "outputs": [
    {
     "data": {
      "text/html": [
       "<div>\n",
       "<style scoped>\n",
       "    .dataframe tbody tr th:only-of-type {\n",
       "        vertical-align: middle;\n",
       "    }\n",
       "\n",
       "    .dataframe tbody tr th {\n",
       "        vertical-align: top;\n",
       "    }\n",
       "\n",
       "    .dataframe thead th {\n",
       "        text-align: right;\n",
       "    }\n",
       "</style>\n",
       "<table border=\"1\" class=\"dataframe\">\n",
       "  <thead>\n",
       "    <tr style=\"text-align: right;\">\n",
       "      <th></th>\n",
       "      <th>last</th>\n",
       "      <th>email</th>\n",
       "    </tr>\n",
       "  </thead>\n",
       "  <tbody>\n",
       "    <tr>\n",
       "      <th>0</th>\n",
       "      <td>Schafer</td>\n",
       "      <td>CoreyMSchafer@gmail.com</td>\n",
       "    </tr>\n",
       "    <tr>\n",
       "      <th>1</th>\n",
       "      <td>Doe</td>\n",
       "      <td>JaneDoe@email.com</td>\n",
       "    </tr>\n",
       "  </tbody>\n",
       "</table>\n",
       "</div>"
      ],
      "text/plain": [
       "      last                    email\n",
       "0  Schafer  CoreyMSchafer@gmail.com\n",
       "1      Doe        JaneDoe@email.com"
      ]
     },
     "execution_count": 218,
     "metadata": {},
     "output_type": "execute_result"
    }
   ],
   "source": [
    "df.loc[ [0, 1], ['last', 'email'] ]"
   ]
  },
  {
   "cell_type": "code",
   "execution_count": 219,
   "id": "341e41a9-1206-4f66-9c01-b269a2c313d7",
   "metadata": {},
   "outputs": [
    {
     "data": {
      "text/html": [
       "<div>\n",
       "<style scoped>\n",
       "    .dataframe tbody tr th:only-of-type {\n",
       "        vertical-align: middle;\n",
       "    }\n",
       "\n",
       "    .dataframe tbody tr th {\n",
       "        vertical-align: top;\n",
       "    }\n",
       "\n",
       "    .dataframe thead th {\n",
       "        text-align: right;\n",
       "    }\n",
       "</style>\n",
       "<table border=\"1\" class=\"dataframe\">\n",
       "  <thead>\n",
       "    <tr style=\"text-align: right;\">\n",
       "      <th></th>\n",
       "      <th>last</th>\n",
       "      <th>email</th>\n",
       "    </tr>\n",
       "  </thead>\n",
       "  <tbody>\n",
       "    <tr>\n",
       "      <th>0</th>\n",
       "      <td>Schafer</td>\n",
       "      <td>CoreyMSchafer@gmail.com</td>\n",
       "    </tr>\n",
       "    <tr>\n",
       "      <th>1</th>\n",
       "      <td>Doe</td>\n",
       "      <td>JaneDoe@email.com</td>\n",
       "    </tr>\n",
       "    <tr>\n",
       "      <th>2</th>\n",
       "      <td>Doe</td>\n",
       "      <td>JohnDoe@email.com</td>\n",
       "    </tr>\n",
       "  </tbody>\n",
       "</table>\n",
       "</div>"
      ],
      "text/plain": [
       "      last                    email\n",
       "0  Schafer  CoreyMSchafer@gmail.com\n",
       "1      Doe        JaneDoe@email.com\n",
       "2      Doe        JohnDoe@email.com"
      ]
     },
     "execution_count": 219,
     "metadata": {},
     "output_type": "execute_result"
    }
   ],
   "source": [
    "df.loc[ [0, 1, 2], ['last', 'email'] ]"
   ]
  },
  {
   "cell_type": "code",
   "execution_count": 301,
   "id": "003e6f46-5cba-4efc-971c-bf5e24476817",
   "metadata": {},
   "outputs": [
    {
     "data": {
      "text/html": [
       "<div>\n",
       "<style scoped>\n",
       "    .dataframe tbody tr th:only-of-type {\n",
       "        vertical-align: middle;\n",
       "    }\n",
       "\n",
       "    .dataframe tbody tr th {\n",
       "        vertical-align: top;\n",
       "    }\n",
       "\n",
       "    .dataframe thead th {\n",
       "        text-align: right;\n",
       "    }\n",
       "</style>\n",
       "<table border=\"1\" class=\"dataframe\">\n",
       "  <thead>\n",
       "    <tr style=\"text-align: right;\">\n",
       "      <th></th>\n",
       "      <th>last</th>\n",
       "      <th>email</th>\n",
       "    </tr>\n",
       "  </thead>\n",
       "  <tbody>\n",
       "    <tr>\n",
       "      <th>0</th>\n",
       "      <td>Schafer</td>\n",
       "      <td>CoreyMSchafer@gmail.com</td>\n",
       "    </tr>\n",
       "    <tr>\n",
       "      <th>1</th>\n",
       "      <td>Doe</td>\n",
       "      <td>JaneDoe@email.com</td>\n",
       "    </tr>\n",
       "    <tr>\n",
       "      <th>2</th>\n",
       "      <td>Doe</td>\n",
       "      <td>JohnDoe@email.com</td>\n",
       "    </tr>\n",
       "  </tbody>\n",
       "</table>\n",
       "</div>"
      ],
      "text/plain": [
       "      last                    email\n",
       "0  Schafer  CoreyMSchafer@gmail.com\n",
       "1      Doe        JaneDoe@email.com\n",
       "2      Doe        JohnDoe@email.com"
      ]
     },
     "execution_count": 301,
     "metadata": {},
     "output_type": "execute_result"
    }
   ],
   "source": [
    "# loc ile slicing yaparsak stop değerinin dahil edildiğine dikkat edelim..!\n",
    "# iloc methodunda stop değeri dahil değildir.\n",
    "\n",
    "df.loc[ 0:2, ['last', 'email'] ]"
   ]
  },
  {
   "cell_type": "code",
   "execution_count": 307,
   "id": "bf0a0635-f218-4b8e-8aba-59629d72e439",
   "metadata": {},
   "outputs": [
    {
     "data": {
      "text/html": [
       "<div>\n",
       "<style scoped>\n",
       "    .dataframe tbody tr th:only-of-type {\n",
       "        vertical-align: middle;\n",
       "    }\n",
       "\n",
       "    .dataframe tbody tr th {\n",
       "        vertical-align: top;\n",
       "    }\n",
       "\n",
       "    .dataframe thead th {\n",
       "        text-align: right;\n",
       "    }\n",
       "</style>\n",
       "<table border=\"1\" class=\"dataframe\">\n",
       "  <thead>\n",
       "    <tr style=\"text-align: right;\">\n",
       "      <th></th>\n",
       "      <th>last</th>\n",
       "      <th>email</th>\n",
       "    </tr>\n",
       "  </thead>\n",
       "  <tbody>\n",
       "    <tr>\n",
       "      <th>0</th>\n",
       "      <td>Schafer</td>\n",
       "      <td>CoreyMSchafer@gmail.com</td>\n",
       "    </tr>\n",
       "    <tr>\n",
       "      <th>1</th>\n",
       "      <td>Doe</td>\n",
       "      <td>JaneDoe@email.com</td>\n",
       "    </tr>\n",
       "  </tbody>\n",
       "</table>\n",
       "</div>"
      ],
      "text/plain": [
       "      last                    email\n",
       "0  Schafer  CoreyMSchafer@gmail.com\n",
       "1      Doe        JaneDoe@email.com"
      ]
     },
     "execution_count": 307,
     "metadata": {},
     "output_type": "execute_result"
    }
   ],
   "source": [
    "df.iloc[ 0:2, 1:3 ]  # iloc'ta stop değerleri dahil edilmiyor"
   ]
  },
  {
   "cell_type": "code",
   "execution_count": 306,
   "id": "12eecc4e-600c-4f43-9e6d-21ef660d3413",
   "metadata": {},
   "outputs": [],
   "source": [
    "# Şimdi bu uygulamaları daha büyük bir data olan Stack-Over-Flow datamız üzerinde yapalım ;\n",
    "# Pandas_Ders.ipynb notebook sayfamıza atlıyoruz..."
   ]
  }
 ],
 "metadata": {
  "kernelspec": {
   "display_name": "Python 3 (ipykernel)",
   "language": "python",
   "name": "python3"
  },
  "language_info": {
   "codemirror_mode": {
    "name": "ipython",
    "version": 3
   },
   "file_extension": ".py",
   "mimetype": "text/x-python",
   "name": "python",
   "nbconvert_exporter": "python",
   "pygments_lexer": "ipython3",
   "version": "3.11.0"
  }
 },
 "nbformat": 4,
 "nbformat_minor": 5
}
